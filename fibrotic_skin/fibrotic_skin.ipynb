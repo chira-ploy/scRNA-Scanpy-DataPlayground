{
 "cells": [
  {
   "cell_type": "markdown",
   "id": "78807309",
   "metadata": {},
   "source": [
    "# Single-cell RNA Sequencing of Fibrotic Skin Disease Dermis Tissue and Normal  Dermise Tissue\n",
    "\n",
    "**Data Source Acknowledgment:**\n",
    "\n",
    "The dataset is sourced from [GSE163973](https://www.ncbi.nlm.nih.gov/geo/query/acc.cgi?acc=GSE163973). This dataset comprises single-cell RNA sequencing data from keloid (nsample=3) and normal scar(nsample=3).\n",
    "\n",
    "Reference: Deng CC, Hu YF, Zhu DH, Cheng Q et al. Single-cell RNA-seq reveals fibroblast heterogeneity and increased mesenchymal fibroblasts in human fibrotic skin diseases. Nat Commun 2021 Jun 17;12(1):3709. PMID: 34140509\n",
    "\n",
    "\n",
    "It's essential to emphasize that this dataset is exclusively utilized for Python practice purposes within this repository. This notebook will use this dataset to practice data cleaning techniques and clustering."
   ]
  },
  {
   "cell_type": "markdown",
   "id": "5623b1f6",
   "metadata": {},
   "source": [
    "# 1. Data Loading and Exploration"
   ]
  },
  {
   "cell_type": "markdown",
   "id": "e929953d",
   "metadata": {},
   "source": [
    "The raw data file (GSE163973_RAW.tar) is unzipped, revealing archives for 6 samples, each compressed in separate .tar.gz files named \"sample_file.tar.gz.\" Unzipping each sample file  (.tar.gz) will get you three files: matrix.mtx.gz, barcodes.tsv.gz, and features.tsv.gz.\n",
    "\n",
    "The ```scanpy.read_10x_mtx function``` is used to read data in the 10x Genomics matrix format, which requires these three files (matrix.mtx.gz, barcodes.tsv.gz, and features.tsv.gz) for each sample."
   ]
  },
  {
   "cell_type": "code",
   "execution_count": 2,
   "id": "98fcb05e",
   "metadata": {},
   "outputs": [],
   "source": [
    "#unzip\n",
    "#!tar -xf GSE163973_RAW.tar  "
   ]
  },
  {
   "cell_type": "code",
   "execution_count": 22,
   "id": "1696ce4f",
   "metadata": {},
   "outputs": [
    {
     "name": "stdout",
     "output_type": "stream",
     "text": [
      "['GSM4994383_NS2_matrix.tar.gz', 'GSM4994382_NS1_matrix.tar.gz', 'GSM4994380_KL2_matrix.tar.gz', 'GSM4994379_KL1_matrix.tar.gz', 'GSM4994384_NS3_matrix.tar.gz', 'GSM4994381_KL3_matrix.tar.gz']\n"
     ]
    }
   ],
   "source": [
    "import os\n",
    "path = \".\"\n",
    "dir_list = os.listdir(path)\n",
    "\n",
    "raw_data_files = []\n",
    "for file in dir_list:\n",
    "    if file.endswith('tar.gz'):\n",
    "        raw_data_files.append(file)\n",
    "        \n",
    "print(raw_data_files)"
   ]
  },
  {
   "cell_type": "code",
   "execution_count": 25,
   "id": "43b56153",
   "metadata": {},
   "outputs": [],
   "source": [
    "import tarfile\n",
    "\n",
    "def unzip_targz(file_path):\n",
    "    with tarfile.open(file_path, \"r:gz\") as tar:\n",
    "        tar.extractall()"
   ]
  },
  {
   "cell_type": "code",
   "execution_count": 26,
   "id": "aaabb674",
   "metadata": {},
   "outputs": [],
   "source": [
    "for file in raw_data_files:\n",
    "    if file.endswith(\".tar.gz\"):\n",
    "        unzip_targz(file)"
   ]
  },
  {
   "cell_type": "code",
   "execution_count": 17,
   "id": "fef4ab57",
   "metadata": {},
   "outputs": [],
   "source": [
    "import scanpy as sc\n",
    "\n",
    "path = \"./KF1_matrix/\"\n",
    "adata = sc.read_10x_mtx(path)"
   ]
  },
  {
   "cell_type": "code",
   "execution_count": 18,
   "id": "509df04d",
   "metadata": {},
   "outputs": [
    {
     "data": {
      "text/plain": [
       "AnnData object with n_obs × n_vars = 9663 × 33538\n",
       "    var: 'gene_ids', 'feature_types'"
      ]
     },
     "execution_count": 18,
     "metadata": {},
     "output_type": "execute_result"
    }
   ],
   "source": [
    "adata\n"
   ]
  },
  {
   "cell_type": "code",
   "execution_count": null,
   "id": "75e6492c",
   "metadata": {},
   "outputs": [],
   "source": []
  },
  {
   "cell_type": "markdown",
   "id": "1643f64c",
   "metadata": {},
   "source": [
    "# 2. Data Integration"
   ]
  },
  {
   "cell_type": "code",
   "execution_count": null,
   "id": "b5417d6e",
   "metadata": {},
   "outputs": [],
   "source": []
  },
  {
   "cell_type": "code",
   "execution_count": null,
   "id": "b63983a4",
   "metadata": {},
   "outputs": [],
   "source": []
  },
  {
   "cell_type": "code",
   "execution_count": null,
   "id": "4bac985d",
   "metadata": {},
   "outputs": [],
   "source": []
  },
  {
   "cell_type": "markdown",
   "id": "7263e042",
   "metadata": {},
   "source": [
    "# 3. Preprocessing"
   ]
  },
  {
   "cell_type": "code",
   "execution_count": null,
   "id": "c50abcf1",
   "metadata": {},
   "outputs": [],
   "source": []
  },
  {
   "cell_type": "code",
   "execution_count": null,
   "id": "7b1eef89",
   "metadata": {},
   "outputs": [],
   "source": [
    "a"
   ]
  }
 ],
 "metadata": {
  "kernelspec": {
   "display_name": "Python 3 (ipykernel)",
   "language": "python",
   "name": "python3"
  },
  "language_info": {
   "codemirror_mode": {
    "name": "ipython",
    "version": 3
   },
   "file_extension": ".py",
   "mimetype": "text/x-python",
   "name": "python",
   "nbconvert_exporter": "python",
   "pygments_lexer": "ipython3",
   "version": "3.11.5"
  }
 },
 "nbformat": 4,
 "nbformat_minor": 5
}
