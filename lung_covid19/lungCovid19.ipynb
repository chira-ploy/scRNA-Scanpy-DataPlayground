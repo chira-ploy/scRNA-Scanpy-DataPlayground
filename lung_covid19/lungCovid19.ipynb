{
 "cells": [
  {
   "cell_type": "markdown",
   "id": "03099476",
   "metadata": {},
   "source": [
    "# Single-cell RNA Sequencing of Lung Samples from COVID-19 Decedents and Control Individuals\n",
    "\n",
    "**Data Source Acknowledgment:**\n",
    "\n",
    "The dataset is sourced from [GSE171524](https://www.ncbi.nlm.nih.gov/geo/query/acc.cgi?acc=GSE171524). This dataset comprises single-nuclei RNA sequencing data from 116,314 cells collected from 20 frozen lungs obtained from 19 individuals who died from COVID-19 and 7 control patients. It's essential to emphasize that this dataset is exclusively utilized for Python practice purposes within this repository."
   ]
  },
  {
   "cell_type": "code",
   "execution_count": 2,
   "id": "ea790ee5",
   "metadata": {},
   "outputs": [],
   "source": [
    "#unzip .tar\n",
    "#!tar -xf GSE171524_RAW.tar\n",
    "#!gunzip GSM5226574_C51ctr_raw_counts.csv.gz"
   ]
  },
  {
   "cell_type": "code",
   "execution_count": 3,
   "id": "a3970f8d",
   "metadata": {},
   "outputs": [],
   "source": [
    "import numpy as np\n",
    "import pandas as pd\n",
    "import anndata as ad\n",
    "import scanpy as sc\n",
    "import seaborn as sns\n",
    "import matplotlib.pyplot as plt\n",
    "%matplotlib inline"
   ]
  },
  {
   "cell_type": "markdown",
   "id": "b778c86f",
   "metadata": {},
   "source": [
    "## 1. Reading and creating AnnData object"
   ]
  },
  {
   "cell_type": "code",
   "execution_count": 4,
   "id": "0f914101",
   "metadata": {},
   "outputs": [
    {
     "data": {
      "text/plain": [
       "AnnData object with n_obs × n_vars = 6099 × 34546"
      ]
     },
     "execution_count": 4,
     "metadata": {},
     "output_type": "execute_result"
    }
   ],
   "source": [
    "#read a file using Scanpy\n",
    "#it's necessary to transpose it because Scanpy requires genes as columns and cells as rows\n",
    "adata = sc.read_csv('GSM5226574_C51ctr_raw_counts.csv').T\n",
    "adata"
   ]
  },
  {
   "cell_type": "code",
   "execution_count": 5,
   "id": "a9e44119",
   "metadata": {},
   "outputs": [
    {
     "data": {
      "text/html": [
       "<div>\n",
       "<style scoped>\n",
       "    .dataframe tbody tr th:only-of-type {\n",
       "        vertical-align: middle;\n",
       "    }\n",
       "\n",
       "    .dataframe tbody tr th {\n",
       "        vertical-align: top;\n",
       "    }\n",
       "\n",
       "    .dataframe thead th {\n",
       "        text-align: right;\n",
       "    }\n",
       "</style>\n",
       "<table border=\"1\" class=\"dataframe\">\n",
       "  <thead>\n",
       "    <tr style=\"text-align: right;\">\n",
       "      <th></th>\n",
       "    </tr>\n",
       "  </thead>\n",
       "  <tbody>\n",
       "    <tr>\n",
       "      <th>TAGGTACCATGGCCAC-1_1</th>\n",
       "    </tr>\n",
       "    <tr>\n",
       "      <th>ATTCACTGTAACAGGC-1_1</th>\n",
       "    </tr>\n",
       "    <tr>\n",
       "      <th>TAACTTCCAACCACGC-1_1</th>\n",
       "    </tr>\n",
       "    <tr>\n",
       "      <th>TTGGGTACACGACAAG-1_1</th>\n",
       "    </tr>\n",
       "    <tr>\n",
       "      <th>AGGCCACAGAGTCACG-1_1</th>\n",
       "    </tr>\n",
       "    <tr>\n",
       "      <th>...</th>\n",
       "    </tr>\n",
       "    <tr>\n",
       "      <th>CGCCATTGTTTGCCGG-1_1</th>\n",
       "    </tr>\n",
       "    <tr>\n",
       "      <th>CACTGGGGTCTACGTA-1_1</th>\n",
       "    </tr>\n",
       "    <tr>\n",
       "      <th>CATACTTGTAGAGGAA-1_1</th>\n",
       "    </tr>\n",
       "    <tr>\n",
       "      <th>TTTGGTTTCCACGGAC-1_1</th>\n",
       "    </tr>\n",
       "    <tr>\n",
       "      <th>ATGCATGAGTCATGAA-1_1</th>\n",
       "    </tr>\n",
       "  </tbody>\n",
       "</table>\n",
       "<p>6099 rows × 0 columns</p>\n",
       "</div>"
      ],
      "text/plain": [
       "Empty DataFrame\n",
       "Columns: []\n",
       "Index: [TAGGTACCATGGCCAC-1_1, ATTCACTGTAACAGGC-1_1, TAACTTCCAACCACGC-1_1, TTGGGTACACGACAAG-1_1, AGGCCACAGAGTCACG-1_1, CACTGAAGTCGAAGCA-1_1, ACTGATGTCTGCACCT-1_1, TTACCGCCACTCAGAT-1_1, TTGGTTTTCCTAGCTC-1_1, TGGGAAGTCAGTGATC-1_1, CCACGAGTCTCTTAAC-1_1, ACTTCCGCACAACGCC-1_1, GGGAAGTAGCGACCCT-1_1, TGGTAGTTCCCGTGTT-1_1, CGCATAACATGCCGGT-1_1, TCTATCACAAGGCTTT-1_1, ATCCACCAGAGGTATT-1_1, TAACGACAGATGACCG-1_1, TCTTAGTGTATGAGGC-1_1, CACTTCGCAGTACTAC-1_1, GTCAAACAGAACGTGC-1_1, GCAACCGAGGGCAGGA-1_1, CATACTTTCATCACTT-1_1, AAGAACATCGGATTAC-1_1, GGGTATTGTACGATGG-1_1, CTGTAGATCAACGTGT-1_1, GTCATTTGTATCTCGA-1_1, CCTTGTGCAGAGGGTT-1_1, AAGTTCGCAACACGTT-1_1, TCATTCACAAATCAAG-1_1, TCCATGCCAACGACTT-1_1, TCCTTCTCAGTTTCAG-1_1, TGTGAGTCAAATGATG-1_1, AAACGAAGTACAGAGC-1_1, CAACCAAAGTATTCCG-1_1, CTTCTCTCAGAGACTG-1_1, TACAACGGTGGCTGAA-1_1, AACGGGACATGCCGGT-1_1, AACCAACGTTGGGAAC-1_1, TATATCCAGCGTCAGA-1_1, AGACAAACATCCCGTT-1_1, ATGACCAGTCTTCATT-1_1, CTTACCGTCAGACATC-1_1, CGGGACTGTTAGTTCG-1_1, ATTCATCCACTGAGTT-1_1, TCATGAGAGAGGCGGA-1_1, TCCCACATCTAGTACG-1_1, CTTCCTTCATATCTCT-1_1, CCGGACACACTCGATA-1_1, ACACGCGCACCTGTCT-1_1, GAATCGTCAGAAGTGC-1_1, GGTGGCTCAAGCTCTA-1_1, CCTGCATCACATATGC-1_1, GTGGGAAGTTAAAGTG-1_1, CGTTCTGGTACTAGCT-1_1, ACCCTCACAATAGTCC-1_1, GCCCGAACAAACTAAG-1_1, GTGGAAGCACATGACT-1_1, GTTGTGACATCGATAC-1_1, GACAGCCCAGGTCCGT-1_1, TAAGCACGTTGGCTAT-1_1, GGGACAAGTCACCACG-1_1, CTGGCAGGTTCGGTAT-1_1, GACTCAACACTGTGAT-1_1, GCCAGTGGTGTGGTCC-1_1, TCTAACTGTAGGCAGT-1_1, GAAGAATGTAGCTTGT-1_1, TCACTCGCAATCTCTT-1_1, CAAGACTTCCCACAGG-1_1, CAGATACGTGACTCTA-1_1, TGGGATTAGAGGGTCT-1_1, ACCTGAACACTCCTTG-1_1, GACACGCCACTCGATA-1_1, CTCATCGTCACCGCTT-1_1, AGGTAGGGTCCCTGTT-1_1, TACCCGTCAACACTAC-1_1, TGCTGAAAGACGGATC-1_1, ACACCAACACAACGCC-1_1, AAGATAGCAAATGGAT-1_1, CTTCAATGTGACAGGT-1_1, GAAGCGAAGAGTTGAT-1_1, GCCGTGACACAAGCCC-1_1, CCTCAACCATACAGGG-1_1, ACAAAGATCCACAGGC-1_1, CAGATACAGTCCCAGC-1_1, GGCAGTCTCCGGTTCT-1_1, TAAGTCGAGCTGAGCA-1_1, GAGACCCGTCTGTGCG-1_1, TAACACGCATGTGTCA-1_1, TCAATTCGTTCTCGCT-1_1, GCTTTCGCACAGTGTT-1_1, AACCAACAGATAACAC-1_1, ATCGGCGCACATCATG-1_1, TCATCCGCACGAGGAT-1_1, CTGATCCTCTTTACAC-1_1, TCACACCCAACTTCTT-1_1, TGAGGGACACCGTACG-1_1, GTGCACGTCATCTGTT-1_1, GGTAATCAGTTGCATC-1_1, ATACTTCCAAGGTCTT-1_1, ...]\n",
       "\n",
       "[6099 rows x 0 columns]"
      ]
     },
     "execution_count": 5,
     "metadata": {},
     "output_type": "execute_result"
    }
   ],
   "source": [
    "#first component = observation (df)\n",
    "adata.obs"
   ]
  },
  {
   "cell_type": "code",
   "execution_count": 6,
   "id": "15fc0969",
   "metadata": {},
   "outputs": [
    {
     "data": {
      "text/html": [
       "<div>\n",
       "<style scoped>\n",
       "    .dataframe tbody tr th:only-of-type {\n",
       "        vertical-align: middle;\n",
       "    }\n",
       "\n",
       "    .dataframe tbody tr th {\n",
       "        vertical-align: top;\n",
       "    }\n",
       "\n",
       "    .dataframe thead th {\n",
       "        text-align: right;\n",
       "    }\n",
       "</style>\n",
       "<table border=\"1\" class=\"dataframe\">\n",
       "  <thead>\n",
       "    <tr style=\"text-align: right;\">\n",
       "      <th></th>\n",
       "    </tr>\n",
       "  </thead>\n",
       "  <tbody>\n",
       "    <tr>\n",
       "      <th>AL627309.1</th>\n",
       "    </tr>\n",
       "    <tr>\n",
       "      <th>AL627309.5</th>\n",
       "    </tr>\n",
       "    <tr>\n",
       "      <th>AL627309.4</th>\n",
       "    </tr>\n",
       "    <tr>\n",
       "      <th>AL669831.2</th>\n",
       "    </tr>\n",
       "    <tr>\n",
       "      <th>LINC01409</th>\n",
       "    </tr>\n",
       "    <tr>\n",
       "      <th>...</th>\n",
       "    </tr>\n",
       "    <tr>\n",
       "      <th>VN1R2</th>\n",
       "    </tr>\n",
       "    <tr>\n",
       "      <th>AL031676.1</th>\n",
       "    </tr>\n",
       "    <tr>\n",
       "      <th>SMIM34A</th>\n",
       "    </tr>\n",
       "    <tr>\n",
       "      <th>AL050402.1</th>\n",
       "    </tr>\n",
       "    <tr>\n",
       "      <th>AL445072.1</th>\n",
       "    </tr>\n",
       "  </tbody>\n",
       "</table>\n",
       "<p>34546 rows × 0 columns</p>\n",
       "</div>"
      ],
      "text/plain": [
       "Empty DataFrame\n",
       "Columns: []\n",
       "Index: [AL627309.1, AL627309.5, AL627309.4, AL669831.2, LINC01409, FAM87B, LINC01128, LINC00115, FAM41C, AL645608.6, AL645608.2, LINC02593, SAMD11, NOC2L, KLHL17, PLEKHN1, PERM1, AL645608.7, HES4, ISG15, AL645608.1, AGRN, C1orf159, AL390719.3, LINC01342, AL390719.2, TTLL10-AS1, TTLL10, TNFRSF18, TNFRSF4, SDF4, B3GALT6, C1QTNF12, UBE2J2, LINC01786, SCNN1D, ACAP3, PUSL1, INTS11, AL139287.1, CPTP, DVL1, MXRA8, AURKAIP1, CCNL2, MRPL20-AS1, MRPL20, AL391244.2, ANKRD65, AL391244.1, LINC01770, VWA1, ATAD3C, ATAD3B, ATAD3A, TMEM240, SSU72, AL645728.1, FNDC10, AL691432.4, AL691432.2, MIB2, MMP23B, CDK11B, FO704657.1, SLC35E2B, CDK11A, SLC35E2A, NADK, GNB1, AL109917.1, CALML6, TMEM52, CFAP74, GABRD, AL391845.1, PRKCZ, AL590822.2, PRKCZ-AS1, FAAP20, AL590822.1, SKI, AL590822.3, MORN1, AL589739.1, AL513477.2, RER1, PEX10, PLCH2, AL139246.4, PANK4, HES5, AL139246.5, TNFRSF14-AS1, TNFRSF14, AL139246.3, PRXL2B, MMEL1, TTC34, AC242022.2, ...]\n",
       "\n",
       "[34546 rows x 0 columns]"
      ]
     },
     "execution_count": 6,
     "metadata": {},
     "output_type": "execute_result"
    }
   ],
   "source": [
    "#second component = variables/genes (df)\n",
    "adata.var"
   ]
  },
  {
   "cell_type": "code",
   "execution_count": 7,
   "id": "09590506",
   "metadata": {},
   "outputs": [
    {
     "data": {
      "text/plain": [
       "array([[0., 0., 0., ..., 0., 0., 0.],\n",
       "       [0., 0., 0., ..., 0., 0., 0.],\n",
       "       [0., 0., 0., ..., 0., 0., 0.],\n",
       "       ...,\n",
       "       [0., 0., 0., ..., 0., 0., 0.],\n",
       "       [0., 0., 0., ..., 0., 0., 0.],\n",
       "       [0., 0., 0., ..., 0., 0., 0.]], dtype=float32)"
      ]
     },
     "execution_count": 7,
     "metadata": {},
     "output_type": "execute_result"
    }
   ],
   "source": [
    "#third component = data matrix (numpy array)\n",
    "adata.X"
   ]
  },
  {
   "cell_type": "markdown",
   "id": "aca61ee5",
   "metadata": {},
   "source": [
    "# 2. Doublet removal (optional)\n",
    "Two additional cells can be present in the same droplet. I will use scvi-tools, a package for probabilistic modeling of single-cell omics data, which is built on top of PyTorch and AnnData. First, I will create a dataframe for doublets, and then list the indices of these doublets. After that, I will remove these indices from the 'adata"
   ]
  },
  {
   "cell_type": "code",
   "execution_count": 8,
   "id": "1f85072e",
   "metadata": {},
   "outputs": [],
   "source": [
    "#scvi will be used to predict whether a cell is doublet or not\n",
    "import scvi"
   ]
  },
  {
   "cell_type": "code",
   "execution_count": 9,
   "id": "414dd543",
   "metadata": {},
   "outputs": [],
   "source": [
    "#narrow down the genes by filtering genes based on number of cells\n",
    "sc.pp.filter_genes(adata ,min_cells=10)"
   ]
  },
  {
   "cell_type": "code",
   "execution_count": 14,
   "id": "af17f6f7",
   "metadata": {},
   "outputs": [
    {
     "data": {
      "text/plain": [
       "AnnData object with n_obs × n_vars = 6099 × 2000\n",
       "    var: 'n_cells', 'highly_variable', 'highly_variable_rank', 'means', 'variances', 'variances_norm'\n",
       "    uns: 'hvg'"
      ]
     },
     "execution_count": 14,
     "metadata": {},
     "output_type": "execute_result"
    }
   ],
   "source": [
    "adata"
   ]
  },
  {
   "cell_type": "code",
   "execution_count": 13,
   "id": "79093e40",
   "metadata": {},
   "outputs": [],
   "source": [
    "#I will keep only 2000 top variable genes which can descibe the data\n",
    "#Highly variable genes are genes whose expression levels vary significantly \n",
    "#across individual cells within a population. \n",
    "\n",
    "sc.pp.highly_variable_genes(adata, n_top_genes=2000, subset=True, flavor='seurat_v3')"
   ]
  },
  {
   "cell_type": "code",
   "execution_count": 15,
   "id": "338715d9",
   "metadata": {},
   "outputs": [
    {
     "name": "stderr",
     "output_type": "stream",
     "text": [
      "GPU available: False, used: False\n",
      "TPU available: False, using: 0 TPU cores\n",
      "IPU available: False, using: 0 IPUs\n",
      "HPU available: False, using: 0 HPUs\n",
      "/Applications/anaconda3/lib/python3.11/site-packages/lightning/pytorch/trainer/connectors/data_connector.py:441: The 'train_dataloader' does not have many workers which may be a bottleneck. Consider increasing the value of the `num_workers` argument` to `num_workers=7` in the `DataLoader` to improve performance.\n"
     ]
    },
    {
     "name": "stdout",
     "output_type": "stream",
     "text": [
      "Epoch 400/400: 100%|████████████████████████████████████████████████████████████████████████████████████████████████| 400/400 [14:32<00:00,  2.05s/it, v_num=1, train_loss_step=329, train_loss_epoch=324]"
     ]
    },
    {
     "name": "stderr",
     "output_type": "stream",
     "text": [
      "`Trainer.fit` stopped: `max_epochs=400` reached.\n"
     ]
    },
    {
     "name": "stdout",
     "output_type": "stream",
     "text": [
      "Epoch 400/400: 100%|████████████████████████████████████████████████████████████████████████████████████████████████| 400/400 [14:32<00:00,  2.18s/it, v_num=1, train_loss_step=329, train_loss_epoch=324]\n"
     ]
    }
   ],
   "source": [
    "#predict the doublet\n",
    "#use default model\n",
    "scvi.model.SCVI.setup_anndata(adata)\n",
    "#train the model\n",
    "vae = scvi.model.SCVI(adata)\n",
    "vae.train()"
   ]
  },
  {
   "cell_type": "code",
   "execution_count": 16,
   "id": "9b2bc5c8",
   "metadata": {},
   "outputs": [
    {
     "name": "stdout",
     "output_type": "stream",
     "text": [
      "\u001b[34mINFO    \u001b[0m Creating doublets, preparing SOLO model.                                                                  \n"
     ]
    },
    {
     "name": "stderr",
     "output_type": "stream",
     "text": [
      "GPU available: False, used: False\n",
      "TPU available: False, using: 0 TPU cores\n",
      "IPU available: False, using: 0 IPUs\n",
      "HPU available: False, using: 0 HPUs\n",
      "/Applications/anaconda3/lib/python3.11/site-packages/lightning/pytorch/trainer/connectors/data_connector.py:441: The 'train_dataloader' does not have many workers which may be a bottleneck. Consider increasing the value of the `num_workers` argument` to `num_workers=7` in the `DataLoader` to improve performance.\n",
      "/Applications/anaconda3/lib/python3.11/site-packages/lightning/pytorch/trainer/connectors/data_connector.py:441: The 'val_dataloader' does not have many workers which may be a bottleneck. Consider increasing the value of the `num_workers` argument` to `num_workers=7` in the `DataLoader` to improve performance.\n"
     ]
    },
    {
     "name": "stdout",
     "output_type": "stream",
     "text": [
      "Epoch 143/400:  36%|████████████████████████████████▉                                                           | 143/400 [00:57<01:43,  2.49it/s, v_num=1, train_loss_step=0.224, train_loss_epoch=0.301]\n",
      "Monitored metric validation_loss did not improve in the last 30 records. Best score: 0.280. Signaling Trainer to stop.\n"
     ]
    }
   ],
   "source": [
    "#after SCVI trained, the solo model which predict droublet will be trained by passing vae\n",
    "# scvi.external.SOLO : Doublet detection in scRNA-seq\n",
    "solo = scvi.external.SOLO.from_scvi_model(vae)\n",
    "solo.train()"
   ]
  },
  {
   "cell_type": "code",
   "execution_count": 119,
   "id": "cab09144",
   "metadata": {},
   "outputs": [],
   "source": [
    "#Return doublet predictions\n",
    "df_prediction = solo.predict()\n",
    "df_prediction.to_csv('df_prediction.csv', index=True) "
   ]
  },
  {
   "cell_type": "code",
   "execution_count": 121,
   "id": "487a1ab1",
   "metadata": {},
   "outputs": [
    {
     "data": {
      "text/html": [
       "<div>\n",
       "<style scoped>\n",
       "    .dataframe tbody tr th:only-of-type {\n",
       "        vertical-align: middle;\n",
       "    }\n",
       "\n",
       "    .dataframe tbody tr th {\n",
       "        vertical-align: top;\n",
       "    }\n",
       "\n",
       "    .dataframe thead th {\n",
       "        text-align: right;\n",
       "    }\n",
       "</style>\n",
       "<table border=\"1\" class=\"dataframe\">\n",
       "  <thead>\n",
       "    <tr style=\"text-align: right;\">\n",
       "      <th></th>\n",
       "      <th>doublet</th>\n",
       "      <th>singlet</th>\n",
       "      <th>prediction</th>\n",
       "    </tr>\n",
       "  </thead>\n",
       "  <tbody>\n",
       "    <tr>\n",
       "      <th>TAGGTACCATGGCCAC-1_1</th>\n",
       "      <td>0.255841</td>\n",
       "      <td>-0.438761</td>\n",
       "      <td>doublet</td>\n",
       "    </tr>\n",
       "    <tr>\n",
       "      <th>ATTCACTGTAACAGGC-1_1</th>\n",
       "      <td>0.687152</td>\n",
       "      <td>-1.170110</td>\n",
       "      <td>doublet</td>\n",
       "    </tr>\n",
       "    <tr>\n",
       "      <th>TAACTTCCAACCACGC-1_1</th>\n",
       "      <td>-0.020706</td>\n",
       "      <td>-0.330602</td>\n",
       "      <td>doublet</td>\n",
       "    </tr>\n",
       "    <tr>\n",
       "      <th>TTGGGTACACGACAAG-1_1</th>\n",
       "      <td>0.950293</td>\n",
       "      <td>-1.178556</td>\n",
       "      <td>doublet</td>\n",
       "    </tr>\n",
       "    <tr>\n",
       "      <th>AGGCCACAGAGTCACG-1_1</th>\n",
       "      <td>0.573513</td>\n",
       "      <td>-0.904042</td>\n",
       "      <td>doublet</td>\n",
       "    </tr>\n",
       "    <tr>\n",
       "      <th>...</th>\n",
       "      <td>...</td>\n",
       "      <td>...</td>\n",
       "      <td>...</td>\n",
       "    </tr>\n",
       "    <tr>\n",
       "      <th>CGCCATTGTTTGCCGG-1_1</th>\n",
       "      <td>-1.468524</td>\n",
       "      <td>1.969313</td>\n",
       "      <td>singlet</td>\n",
       "    </tr>\n",
       "    <tr>\n",
       "      <th>CACTGGGGTCTACGTA-1_1</th>\n",
       "      <td>-2.692539</td>\n",
       "      <td>2.721479</td>\n",
       "      <td>singlet</td>\n",
       "    </tr>\n",
       "    <tr>\n",
       "      <th>CATACTTGTAGAGGAA-1_1</th>\n",
       "      <td>-1.860980</td>\n",
       "      <td>2.147750</td>\n",
       "      <td>singlet</td>\n",
       "    </tr>\n",
       "    <tr>\n",
       "      <th>TTTGGTTTCCACGGAC-1_1</th>\n",
       "      <td>-2.403992</td>\n",
       "      <td>2.453446</td>\n",
       "      <td>singlet</td>\n",
       "    </tr>\n",
       "    <tr>\n",
       "      <th>ATGCATGAGTCATGAA-1_1</th>\n",
       "      <td>-1.906599</td>\n",
       "      <td>1.794715</td>\n",
       "      <td>singlet</td>\n",
       "    </tr>\n",
       "  </tbody>\n",
       "</table>\n",
       "<p>6099 rows × 3 columns</p>\n",
       "</div>"
      ],
      "text/plain": [
       "                       doublet   singlet prediction\n",
       "TAGGTACCATGGCCAC-1_1  0.255841 -0.438761    doublet\n",
       "ATTCACTGTAACAGGC-1_1  0.687152 -1.170110    doublet\n",
       "TAACTTCCAACCACGC-1_1 -0.020706 -0.330602    doublet\n",
       "TTGGGTACACGACAAG-1_1  0.950293 -1.178556    doublet\n",
       "AGGCCACAGAGTCACG-1_1  0.573513 -0.904042    doublet\n",
       "...                        ...       ...        ...\n",
       "CGCCATTGTTTGCCGG-1_1 -1.468524  1.969313    singlet\n",
       "CACTGGGGTCTACGTA-1_1 -2.692539  2.721479    singlet\n",
       "CATACTTGTAGAGGAA-1_1 -1.860980  2.147750    singlet\n",
       "TTTGGTTTCCACGGAC-1_1 -2.403992  2.453446    singlet\n",
       "ATGCATGAGTCATGAA-1_1 -1.906599  1.794715    singlet\n",
       "\n",
       "[6099 rows x 3 columns]"
      ]
     },
     "execution_count": 121,
     "metadata": {},
     "output_type": "execute_result"
    }
   ],
   "source": [
    "#add prediction label (soft=False => return class labels as doublet pr singlet)\n",
    "df_prediction['prediction'] = solo.predict(soft=False)\n",
    "df_prediction"
   ]
  },
  {
   "cell_type": "code",
   "execution_count": 122,
   "id": "858e3002",
   "metadata": {},
   "outputs": [
    {
     "data": {
      "text/html": [
       "<div>\n",
       "<style scoped>\n",
       "    .dataframe tbody tr th:only-of-type {\n",
       "        vertical-align: middle;\n",
       "    }\n",
       "\n",
       "    .dataframe tbody tr th {\n",
       "        vertical-align: top;\n",
       "    }\n",
       "\n",
       "    .dataframe thead th {\n",
       "        text-align: right;\n",
       "    }\n",
       "</style>\n",
       "<table border=\"1\" class=\"dataframe\">\n",
       "  <thead>\n",
       "    <tr style=\"text-align: right;\">\n",
       "      <th></th>\n",
       "      <th>doublet</th>\n",
       "      <th>singlet</th>\n",
       "    </tr>\n",
       "    <tr>\n",
       "      <th>prediction</th>\n",
       "      <th></th>\n",
       "      <th></th>\n",
       "    </tr>\n",
       "  </thead>\n",
       "  <tbody>\n",
       "    <tr>\n",
       "      <th>doublet</th>\n",
       "      <td>978</td>\n",
       "      <td>978</td>\n",
       "    </tr>\n",
       "    <tr>\n",
       "      <th>singlet</th>\n",
       "      <td>5121</td>\n",
       "      <td>5121</td>\n",
       "    </tr>\n",
       "  </tbody>\n",
       "</table>\n",
       "</div>"
      ],
      "text/plain": [
       "            doublet  singlet\n",
       "prediction                  \n",
       "doublet         978      978\n",
       "singlet        5121     5121"
      ]
     },
     "execution_count": 122,
     "metadata": {},
     "output_type": "execute_result"
    }
   ],
   "source": [
    "df_prediction.groupby('prediction').count()"
   ]
  },
  {
   "cell_type": "code",
   "execution_count": 123,
   "id": "072251d9",
   "metadata": {},
   "outputs": [
    {
     "data": {
      "text/html": [
       "<div>\n",
       "<style scoped>\n",
       "    .dataframe tbody tr th:only-of-type {\n",
       "        vertical-align: middle;\n",
       "    }\n",
       "\n",
       "    .dataframe tbody tr th {\n",
       "        vertical-align: top;\n",
       "    }\n",
       "\n",
       "    .dataframe thead th {\n",
       "        text-align: right;\n",
       "    }\n",
       "</style>\n",
       "<table border=\"1\" class=\"dataframe\">\n",
       "  <thead>\n",
       "    <tr style=\"text-align: right;\">\n",
       "      <th></th>\n",
       "      <th>doublet</th>\n",
       "      <th>singlet</th>\n",
       "      <th>prediction</th>\n",
       "      <th>diff</th>\n",
       "    </tr>\n",
       "  </thead>\n",
       "  <tbody>\n",
       "    <tr>\n",
       "      <th>TAGGTACCATGGCCAC-1_1</th>\n",
       "      <td>0.255841</td>\n",
       "      <td>-0.438761</td>\n",
       "      <td>doublet</td>\n",
       "      <td>0.694602</td>\n",
       "    </tr>\n",
       "    <tr>\n",
       "      <th>ATTCACTGTAACAGGC-1_1</th>\n",
       "      <td>0.687152</td>\n",
       "      <td>-1.170110</td>\n",
       "      <td>doublet</td>\n",
       "      <td>1.857262</td>\n",
       "    </tr>\n",
       "    <tr>\n",
       "      <th>TAACTTCCAACCACGC-1_1</th>\n",
       "      <td>-0.020706</td>\n",
       "      <td>-0.330602</td>\n",
       "      <td>doublet</td>\n",
       "      <td>0.309896</td>\n",
       "    </tr>\n",
       "    <tr>\n",
       "      <th>TTGGGTACACGACAAG-1_1</th>\n",
       "      <td>0.950293</td>\n",
       "      <td>-1.178556</td>\n",
       "      <td>doublet</td>\n",
       "      <td>2.128850</td>\n",
       "    </tr>\n",
       "    <tr>\n",
       "      <th>AGGCCACAGAGTCACG-1_1</th>\n",
       "      <td>0.573513</td>\n",
       "      <td>-0.904042</td>\n",
       "      <td>doublet</td>\n",
       "      <td>1.477555</td>\n",
       "    </tr>\n",
       "    <tr>\n",
       "      <th>...</th>\n",
       "      <td>...</td>\n",
       "      <td>...</td>\n",
       "      <td>...</td>\n",
       "      <td>...</td>\n",
       "    </tr>\n",
       "    <tr>\n",
       "      <th>CGCCATTGTTTGCCGG-1_1</th>\n",
       "      <td>-1.468524</td>\n",
       "      <td>1.969313</td>\n",
       "      <td>singlet</td>\n",
       "      <td>-3.437837</td>\n",
       "    </tr>\n",
       "    <tr>\n",
       "      <th>CACTGGGGTCTACGTA-1_1</th>\n",
       "      <td>-2.692539</td>\n",
       "      <td>2.721479</td>\n",
       "      <td>singlet</td>\n",
       "      <td>-5.414019</td>\n",
       "    </tr>\n",
       "    <tr>\n",
       "      <th>CATACTTGTAGAGGAA-1_1</th>\n",
       "      <td>-1.860980</td>\n",
       "      <td>2.147750</td>\n",
       "      <td>singlet</td>\n",
       "      <td>-4.008730</td>\n",
       "    </tr>\n",
       "    <tr>\n",
       "      <th>TTTGGTTTCCACGGAC-1_1</th>\n",
       "      <td>-2.403992</td>\n",
       "      <td>2.453446</td>\n",
       "      <td>singlet</td>\n",
       "      <td>-4.857439</td>\n",
       "    </tr>\n",
       "    <tr>\n",
       "      <th>ATGCATGAGTCATGAA-1_1</th>\n",
       "      <td>-1.906599</td>\n",
       "      <td>1.794715</td>\n",
       "      <td>singlet</td>\n",
       "      <td>-3.701313</td>\n",
       "    </tr>\n",
       "  </tbody>\n",
       "</table>\n",
       "<p>6099 rows × 4 columns</p>\n",
       "</div>"
      ],
      "text/plain": [
       "                       doublet   singlet prediction      diff\n",
       "TAGGTACCATGGCCAC-1_1  0.255841 -0.438761    doublet  0.694602\n",
       "ATTCACTGTAACAGGC-1_1  0.687152 -1.170110    doublet  1.857262\n",
       "TAACTTCCAACCACGC-1_1 -0.020706 -0.330602    doublet  0.309896\n",
       "TTGGGTACACGACAAG-1_1  0.950293 -1.178556    doublet  2.128850\n",
       "AGGCCACAGAGTCACG-1_1  0.573513 -0.904042    doublet  1.477555\n",
       "...                        ...       ...        ...       ...\n",
       "CGCCATTGTTTGCCGG-1_1 -1.468524  1.969313    singlet -3.437837\n",
       "CACTGGGGTCTACGTA-1_1 -2.692539  2.721479    singlet -5.414019\n",
       "CATACTTGTAGAGGAA-1_1 -1.860980  2.147750    singlet -4.008730\n",
       "TTTGGTTTCCACGGAC-1_1 -2.403992  2.453446    singlet -4.857439\n",
       "ATGCATGAGTCATGAA-1_1 -1.906599  1.794715    singlet -3.701313\n",
       "\n",
       "[6099 rows x 4 columns]"
      ]
     },
     "execution_count": 123,
     "metadata": {},
     "output_type": "execute_result"
    }
   ],
   "source": [
    "#calculate diff between doublet score and singlet score\n",
    "df_prediction['diff'] = df_prediction.doublet - df_prediction.singlet\n",
    "df_prediction"
   ]
  },
  {
   "cell_type": "code",
   "execution_count": 124,
   "id": "7e85e717",
   "metadata": {},
   "outputs": [
    {
     "data": {
      "image/png": "[encoded data removed]",
      "text/plain": [
       "<Figure size 640x480 with 1 Axes>"
      ]
     },
     "metadata": {},
     "output_type": "display_data"
    }
   ],
   "source": [
    "sns.histplot(df_prediction[df_prediction['prediction'] == 'doublet'], x='diff')\n",
    "plt.show()"
   ]
  },
  {
   "cell_type": "code",
   "execution_count": 125,
   "id": "4d7d254d",
   "metadata": {},
   "outputs": [
    {
     "data": {
      "text/html": [
       "<div>\n",
       "<style scoped>\n",
       "    .dataframe tbody tr th:only-of-type {\n",
       "        vertical-align: middle;\n",
       "    }\n",
       "\n",
       "    .dataframe tbody tr th {\n",
       "        vertical-align: top;\n",
       "    }\n",
       "\n",
       "    .dataframe thead th {\n",
       "        text-align: right;\n",
       "    }\n",
       "</style>\n",
       "<table border=\"1\" class=\"dataframe\">\n",
       "  <thead>\n",
       "    <tr style=\"text-align: right;\">\n",
       "      <th></th>\n",
       "      <th>doublet</th>\n",
       "      <th>singlet</th>\n",
       "      <th>prediction</th>\n",
       "      <th>diff</th>\n",
       "    </tr>\n",
       "  </thead>\n",
       "  <tbody>\n",
       "    <tr>\n",
       "      <th>ATTCACTGTAACAGGC-1_1</th>\n",
       "      <td>0.687152</td>\n",
       "      <td>-1.170110</td>\n",
       "      <td>doublet</td>\n",
       "      <td>1.857262</td>\n",
       "    </tr>\n",
       "    <tr>\n",
       "      <th>TTGGGTACACGACAAG-1_1</th>\n",
       "      <td>0.950293</td>\n",
       "      <td>-1.178556</td>\n",
       "      <td>doublet</td>\n",
       "      <td>2.128850</td>\n",
       "    </tr>\n",
       "    <tr>\n",
       "      <th>AGGCCACAGAGTCACG-1_1</th>\n",
       "      <td>0.573513</td>\n",
       "      <td>-0.904042</td>\n",
       "      <td>doublet</td>\n",
       "      <td>1.477555</td>\n",
       "    </tr>\n",
       "    <tr>\n",
       "      <th>CACTGAAGTCGAAGCA-1_1</th>\n",
       "      <td>0.513347</td>\n",
       "      <td>-0.879247</td>\n",
       "      <td>doublet</td>\n",
       "      <td>1.392594</td>\n",
       "    </tr>\n",
       "    <tr>\n",
       "      <th>ACTGATGTCTGCACCT-1_1</th>\n",
       "      <td>0.473030</td>\n",
       "      <td>-1.147980</td>\n",
       "      <td>doublet</td>\n",
       "      <td>1.621010</td>\n",
       "    </tr>\n",
       "    <tr>\n",
       "      <th>...</th>\n",
       "      <td>...</td>\n",
       "      <td>...</td>\n",
       "      <td>...</td>\n",
       "      <td>...</td>\n",
       "    </tr>\n",
       "    <tr>\n",
       "      <th>CCTCCTCGTGTGGACA-1_1</th>\n",
       "      <td>0.864986</td>\n",
       "      <td>-0.660994</td>\n",
       "      <td>doublet</td>\n",
       "      <td>1.525980</td>\n",
       "    </tr>\n",
       "    <tr>\n",
       "      <th>TAACTTCGTCATCGGC-1_1</th>\n",
       "      <td>0.827234</td>\n",
       "      <td>-0.224619</td>\n",
       "      <td>doublet</td>\n",
       "      <td>1.051853</td>\n",
       "    </tr>\n",
       "    <tr>\n",
       "      <th>TTGCTGCAGTGCGACA-1_1</th>\n",
       "      <td>0.502505</td>\n",
       "      <td>-0.718050</td>\n",
       "      <td>doublet</td>\n",
       "      <td>1.220555</td>\n",
       "    </tr>\n",
       "    <tr>\n",
       "      <th>ATCAGGTGTCGTCTCT-1_1</th>\n",
       "      <td>0.848040</td>\n",
       "      <td>-0.313997</td>\n",
       "      <td>doublet</td>\n",
       "      <td>1.162037</td>\n",
       "    </tr>\n",
       "    <tr>\n",
       "      <th>ACTCTCGTCCCATAGA-1_1</th>\n",
       "      <td>0.682445</td>\n",
       "      <td>-0.579239</td>\n",
       "      <td>doublet</td>\n",
       "      <td>1.261684</td>\n",
       "    </tr>\n",
       "  </tbody>\n",
       "</table>\n",
       "<p>341 rows × 4 columns</p>\n",
       "</div>"
      ],
      "text/plain": [
       "                       doublet   singlet prediction      diff\n",
       "ATTCACTGTAACAGGC-1_1  0.687152 -1.170110    doublet  1.857262\n",
       "TTGGGTACACGACAAG-1_1  0.950293 -1.178556    doublet  2.128850\n",
       "AGGCCACAGAGTCACG-1_1  0.573513 -0.904042    doublet  1.477555\n",
       "CACTGAAGTCGAAGCA-1_1  0.513347 -0.879247    doublet  1.392594\n",
       "ACTGATGTCTGCACCT-1_1  0.473030 -1.147980    doublet  1.621010\n",
       "...                        ...       ...        ...       ...\n",
       "CCTCCTCGTGTGGACA-1_1  0.864986 -0.660994    doublet  1.525980\n",
       "TAACTTCGTCATCGGC-1_1  0.827234 -0.224619    doublet  1.051853\n",
       "TTGCTGCAGTGCGACA-1_1  0.502505 -0.718050    doublet  1.220555\n",
       "ATCAGGTGTCGTCTCT-1_1  0.848040 -0.313997    doublet  1.162037\n",
       "ACTCTCGTCCCATAGA-1_1  0.682445 -0.579239    doublet  1.261684\n",
       "\n",
       "[341 rows x 4 columns]"
      ]
     },
     "execution_count": 125,
     "metadata": {},
     "output_type": "execute_result"
    }
   ],
   "source": [
    "#filter out the doublet that has diff > 1\n",
    "\n",
    "df_doublet = df_prediction[(df_prediction.prediction == 'doublet') & (df_prediction['diff'] > 1)]\n",
    "df_doublet"
   ]
  },
  {
   "cell_type": "code",
   "execution_count": 126,
   "id": "775d66d3",
   "metadata": {},
   "outputs": [
    {
     "data": {
      "text/plain": [
       "AnnData object with n_obs × n_vars = 6099 × 34546\n",
       "    obs: 'doublet'"
      ]
     },
     "execution_count": 126,
     "metadata": {},
     "output_type": "execute_result"
    }
   ],
   "source": [
    "#adata is not orginal one\n",
    "adata"
   ]
  },
  {
   "cell_type": "code",
   "execution_count": 127,
   "id": "dfcf6ede",
   "metadata": {},
   "outputs": [
    {
     "data": {
      "text/plain": [
       "AnnData object with n_obs × n_vars = 6099 × 34546"
      ]
     },
     "execution_count": 127,
     "metadata": {},
     "output_type": "execute_result"
    }
   ],
   "source": [
    "#i need to reload adata again\n",
    "adata = sc.read_csv('GSM5226574_C51ctr_raw_counts.csv').T\n",
    "adata"
   ]
  },
  {
   "cell_type": "code",
   "execution_count": 128,
   "id": "aba5aff2",
   "metadata": {},
   "outputs": [
    {
     "data": {
      "text/html": [
       "<div>\n",
       "<style scoped>\n",
       "    .dataframe tbody tr th:only-of-type {\n",
       "        vertical-align: middle;\n",
       "    }\n",
       "\n",
       "    .dataframe tbody tr th {\n",
       "        vertical-align: top;\n",
       "    }\n",
       "\n",
       "    .dataframe thead th {\n",
       "        text-align: right;\n",
       "    }\n",
       "</style>\n",
       "<table border=\"1\" class=\"dataframe\">\n",
       "  <thead>\n",
       "    <tr style=\"text-align: right;\">\n",
       "      <th></th>\n",
       "      <th>doublet</th>\n",
       "    </tr>\n",
       "  </thead>\n",
       "  <tbody>\n",
       "    <tr>\n",
       "      <th>TAGGTACCATGGCCAC-1_1</th>\n",
       "      <td>False</td>\n",
       "    </tr>\n",
       "    <tr>\n",
       "      <th>ATTCACTGTAACAGGC-1_1</th>\n",
       "      <td>True</td>\n",
       "    </tr>\n",
       "    <tr>\n",
       "      <th>TAACTTCCAACCACGC-1_1</th>\n",
       "      <td>False</td>\n",
       "    </tr>\n",
       "    <tr>\n",
       "      <th>TTGGGTACACGACAAG-1_1</th>\n",
       "      <td>True</td>\n",
       "    </tr>\n",
       "    <tr>\n",
       "      <th>AGGCCACAGAGTCACG-1_1</th>\n",
       "      <td>True</td>\n",
       "    </tr>\n",
       "    <tr>\n",
       "      <th>...</th>\n",
       "      <td>...</td>\n",
       "    </tr>\n",
       "    <tr>\n",
       "      <th>CGCCATTGTTTGCCGG-1_1</th>\n",
       "      <td>False</td>\n",
       "    </tr>\n",
       "    <tr>\n",
       "      <th>CACTGGGGTCTACGTA-1_1</th>\n",
       "      <td>False</td>\n",
       "    </tr>\n",
       "    <tr>\n",
       "      <th>CATACTTGTAGAGGAA-1_1</th>\n",
       "      <td>False</td>\n",
       "    </tr>\n",
       "    <tr>\n",
       "      <th>TTTGGTTTCCACGGAC-1_1</th>\n",
       "      <td>False</td>\n",
       "    </tr>\n",
       "    <tr>\n",
       "      <th>ATGCATGAGTCATGAA-1_1</th>\n",
       "      <td>False</td>\n",
       "    </tr>\n",
       "  </tbody>\n",
       "</table>\n",
       "<p>6099 rows × 1 columns</p>\n",
       "</div>"
      ],
      "text/plain": [
       "                      doublet\n",
       "TAGGTACCATGGCCAC-1_1    False\n",
       "ATTCACTGTAACAGGC-1_1     True\n",
       "TAACTTCCAACCACGC-1_1    False\n",
       "TTGGGTACACGACAAG-1_1     True\n",
       "AGGCCACAGAGTCACG-1_1     True\n",
       "...                       ...\n",
       "CGCCATTGTTTGCCGG-1_1    False\n",
       "CACTGGGGTCTACGTA-1_1    False\n",
       "CATACTTGTAGAGGAA-1_1    False\n",
       "TTTGGTTTCCACGGAC-1_1    False\n",
       "ATGCATGAGTCATGAA-1_1    False\n",
       "\n",
       "[6099 rows x 1 columns]"
      ]
     },
     "execution_count": 128,
     "metadata": {},
     "output_type": "execute_result"
    }
   ],
   "source": [
    "adata.obs['doublet'] = adata.obs.index.isin(df_doublet.index)\n",
    "adata.obs"
   ]
  },
  {
   "cell_type": "code",
   "execution_count": 129,
   "id": "73f8131f",
   "metadata": {},
   "outputs": [
    {
     "data": {
      "text/html": [
       "<div>\n",
       "<style scoped>\n",
       "    .dataframe tbody tr th:only-of-type {\n",
       "        vertical-align: middle;\n",
       "    }\n",
       "\n",
       "    .dataframe tbody tr th {\n",
       "        vertical-align: top;\n",
       "    }\n",
       "\n",
       "    .dataframe thead th {\n",
       "        text-align: right;\n",
       "    }\n",
       "</style>\n",
       "<table border=\"1\" class=\"dataframe\">\n",
       "  <thead>\n",
       "    <tr style=\"text-align: right;\">\n",
       "      <th></th>\n",
       "      <th>doublet</th>\n",
       "    </tr>\n",
       "  </thead>\n",
       "  <tbody>\n",
       "    <tr>\n",
       "      <th>TAGGTACCATGGCCAC-1_1</th>\n",
       "      <td>False</td>\n",
       "    </tr>\n",
       "    <tr>\n",
       "      <th>TAACTTCCAACCACGC-1_1</th>\n",
       "      <td>False</td>\n",
       "    </tr>\n",
       "    <tr>\n",
       "      <th>TTACCGCCACTCAGAT-1_1</th>\n",
       "      <td>False</td>\n",
       "    </tr>\n",
       "    <tr>\n",
       "      <th>TTGGTTTTCCTAGCTC-1_1</th>\n",
       "      <td>False</td>\n",
       "    </tr>\n",
       "    <tr>\n",
       "      <th>TGGGAAGTCAGTGATC-1_1</th>\n",
       "      <td>False</td>\n",
       "    </tr>\n",
       "    <tr>\n",
       "      <th>...</th>\n",
       "      <td>...</td>\n",
       "    </tr>\n",
       "    <tr>\n",
       "      <th>CGCCATTGTTTGCCGG-1_1</th>\n",
       "      <td>False</td>\n",
       "    </tr>\n",
       "    <tr>\n",
       "      <th>CACTGGGGTCTACGTA-1_1</th>\n",
       "      <td>False</td>\n",
       "    </tr>\n",
       "    <tr>\n",
       "      <th>CATACTTGTAGAGGAA-1_1</th>\n",
       "      <td>False</td>\n",
       "    </tr>\n",
       "    <tr>\n",
       "      <th>TTTGGTTTCCACGGAC-1_1</th>\n",
       "      <td>False</td>\n",
       "    </tr>\n",
       "    <tr>\n",
       "      <th>ATGCATGAGTCATGAA-1_1</th>\n",
       "      <td>False</td>\n",
       "    </tr>\n",
       "  </tbody>\n",
       "</table>\n",
       "<p>5758 rows × 1 columns</p>\n",
       "</div>"
      ],
      "text/plain": [
       "                      doublet\n",
       "TAGGTACCATGGCCAC-1_1    False\n",
       "TAACTTCCAACCACGC-1_1    False\n",
       "TTACCGCCACTCAGAT-1_1    False\n",
       "TTGGTTTTCCTAGCTC-1_1    False\n",
       "TGGGAAGTCAGTGATC-1_1    False\n",
       "...                       ...\n",
       "CGCCATTGTTTGCCGG-1_1    False\n",
       "CACTGGGGTCTACGTA-1_1    False\n",
       "CATACTTGTAGAGGAA-1_1    False\n",
       "TTTGGTTTCCACGGAC-1_1    False\n",
       "ATGCATGAGTCATGAA-1_1    False\n",
       "\n",
       "[5758 rows x 1 columns]"
      ]
     },
     "execution_count": 129,
     "metadata": {},
     "output_type": "execute_result"
    }
   ],
   "source": [
    "#filter all cells with doublet label out (keep only false)\n",
    "# ~ means to keep FALSE\n",
    "adata = adata[~adata.obs.doublet]\n",
    "adata.obs"
   ]
  },
  {
   "cell_type": "markdown",
   "id": "148a7726",
   "metadata": {},
   "source": [
    "# 3. Preprocessing"
   ]
  },
  {
   "cell_type": "code",
   "execution_count": null,
   "id": "f4179165",
   "metadata": {},
   "outputs": [],
   "source": []
  },
  {
   "cell_type": "code",
   "execution_count": null,
   "id": "017fe31c",
   "metadata": {},
   "outputs": [],
   "source": []
  },
  {
   "cell_type": "code",
   "execution_count": null,
   "id": "7147d0d3",
   "metadata": {},
   "outputs": [],
   "source": []
  },
  {
   "cell_type": "code",
   "execution_count": null,
   "id": "8c812e45",
   "metadata": {},
   "outputs": [],
   "source": []
  },
  {
   "cell_type": "code",
   "execution_count": null,
   "id": "e7174736",
   "metadata": {},
   "outputs": [],
   "source": [
    "    "
   ]
  },
  {
   "cell_type": "code",
   "execution_count": null,
   "id": "a4ea1829",
   "metadata": {},
   "outputs": [],
   "source": []
  }
 ],
 "metadata": {
  "kernelspec": {
   "display_name": "Python 3 (ipykernel)",
   "language": "python",
   "name": "python3"
  },
  "language_info": {
   "codemirror_mode": {
    "name": "ipython",
    "version": 3
   },
   "file_extension": ".py",
   "mimetype": "text/x-python",
   "name": "python",
   "nbconvert_exporter": "python",
   "pygments_lexer": "ipython3",
   "version": "3.11.5"
  }
 },
 "nbformat": 4,
 "nbformat_minor": 5
}
